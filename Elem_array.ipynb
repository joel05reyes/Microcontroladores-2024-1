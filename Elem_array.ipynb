{
  "nbformat": 4,
  "nbformat_minor": 0,
  "metadata": {
    "colab": {
      "provenance": []
    },
    "kernelspec": {
      "name": "python3",
      "display_name": "Python 3"
    },
    "language_info": {
      "name": "python"
    }
  },
  "cells": [
    {
      "cell_type": "code",
      "source": [
        "from array import *\n",
        "\n",
        "# Representar una matriz de 3x3 como un array f de 9 elementos\n",
        "datos = array('f', [1.0, 2.0, 3.0, 4.0, 5.0, 6.0, 7.0, 8.0, 9.0])\n",
        "# Imprimir la matriz\n",
        "print(\"Matriz original:\")\n",
        "print(datos)\n",
        "\n",
        "# Función para obtener el elemento (i, j) del array A como si fuera una matriz de 3x3\n",
        "def obtener_elemento(A, i, j):\n",
        "    if i < 0 or i >= 3 or j < 0 or j >= 3:\n",
        "        raise IndexError(\"Índices fuera de rango\")\n",
        "    return A[i * 3 + j]\n",
        "\n",
        "fila_deseada = 1\n",
        "columna_deseada = 2\n",
        "elemento = obtener_elemento(datos, fila_deseada, columna_deseada)\n",
        "print(\"El elemento en la posición ({},{}) es: {}\".format(fila_deseada, columna_deseada, elemento))\n",
        "\n",
        "# Función para intercambiar dos filas en una matriz 3x3\n",
        "def intercambiar_filas(A, fila1, fila2):\n",
        "    A[fila1*3:fila1*3+3], A[fila2*3:fila2*3+3] = A[fila2*3:fila2*3+3], A[fila1*3:fila1*3+3]\n",
        "\n",
        "# Función para multiplicar una fila de una matriz 3x3 por un escalar\n",
        "def multiplicar_fila_por_escalar(A, fila, escalar):\n",
        "    for j in range(3):\n",
        "        A[fila*3+j] *= escalar\n",
        "\n",
        "# Función para sumar un múltiplo de un renglón a otro en una matriz 3x3\n",
        "def suma_multiplo_renglon(A, fila_origen, fila_destino, multiplo):\n",
        "    for j in range(3):\n",
        "        A[fila_destino*3+j] += multiplo * A[fila_origen*3+j]\n",
        "\n",
        "\n",
        "\n",
        "# Intercambiar filas 0 y 2\n",
        "intercambiar_filas(datos, 0, 2)\n",
        "print(\"\\nDespués de intercambiar las filas 0 y 2:\")\n",
        "print(datos)\n",
        "\n",
        "# Multiplicar la fila 1 por 2\n",
        "multiplicar_fila_por_escalar(datos, 1, 2)\n",
        "print(\"\\nDespués de multiplicar la fila 1 por 2:\")\n",
        "print(datos)\n",
        "\n",
        "# Sumar 3 veces la fila 2 a la fila 0\n",
        "suma_multiplo_renglon(datos, 2, 0, 3)\n",
        "print(\"\\nDespués de sumar 3 veces la fila 2 a la fila 0:\")\n",
        "print(datos)\n"
      ],
      "metadata": {
        "colab": {
          "base_uri": "https://localhost:8080/"
        },
        "id": "jzUq6YSV4r5P",
        "outputId": "786ef3d4-78fe-4687-d164-cdfe33e138bc"
      },
      "execution_count": 33,
      "outputs": [
        {
          "output_type": "stream",
          "name": "stdout",
          "text": [
            "El elemento en la posición (1,2) es: 6.0\n",
            "Matriz original:\n",
            "array('f', [1.0, 2.0, 3.0, 4.0, 5.0, 6.0, 7.0, 8.0, 9.0])\n",
            "\n",
            "Después de intercambiar las filas 0 y 2:\n",
            "array('f', [7.0, 8.0, 9.0, 4.0, 5.0, 6.0, 1.0, 2.0, 3.0])\n",
            "\n",
            "Después de multiplicar la fila 1 por 2:\n",
            "array('f', [7.0, 8.0, 9.0, 8.0, 10.0, 12.0, 1.0, 2.0, 3.0])\n",
            "\n",
            "Después de sumar 3 veces la fila 2 a la fila 0:\n",
            "array('f', [10.0, 14.0, 18.0, 8.0, 10.0, 12.0, 1.0, 2.0, 3.0])\n"
          ]
        }
      ]
    }
  ]
}